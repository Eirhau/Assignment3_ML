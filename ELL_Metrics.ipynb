{
 "cells": [
  {
   "cell_type": "markdown",
   "metadata": {},
   "source": [
    "# **Assignment 2**"
   ]
  },
  {
   "cell_type": "markdown",
   "metadata": {},
   "source": []
  },
  {
   "cell_type": "code",
   "execution_count": 165,
   "metadata": {},
   "outputs": [],
   "source": [
    "%matplotlib inline\n",
    "import numpy as np, pandas as pd, seaborn as sns, matplotlib.pyplot as plt\n",
    "from pathlib import Path\n",
    "import pandas_profiling\n",
    "import sklearn\n",
    "\n"
   ]
  },
  {
   "cell_type": "markdown",
   "metadata": {},
   "source": [
    "# **1. Big Picture**"
   ]
  },
  {
   "cell_type": "markdown",
   "metadata": {},
   "source": [
    "# **2. Get The Data**"
   ]
  },
  {
   "cell_type": "code",
   "execution_count": 166,
   "metadata": {},
   "outputs": [],
   "source": [
    "test_data = pd.read_csv(r'C:\\GitRepos\\ML\\Assignment3_ML\\Data\\train.csv')\n",
    "train_copy = test_data.copy()\n",
    "\n"
   ]
  },
  {
   "cell_type": "markdown",
   "metadata": {},
   "source": [
    "# **3. Explore the data to gain insights**"
   ]
  },
  {
   "cell_type": "code",
   "execution_count": 167,
   "metadata": {},
   "outputs": [
    {
     "data": {
      "text/html": [
       "<div>\n",
       "<style scoped>\n",
       "    .dataframe tbody tr th:only-of-type {\n",
       "        vertical-align: middle;\n",
       "    }\n",
       "\n",
       "    .dataframe tbody tr th {\n",
       "        vertical-align: top;\n",
       "    }\n",
       "\n",
       "    .dataframe thead th {\n",
       "        text-align: right;\n",
       "    }\n",
       "</style>\n",
       "<table border=\"1\" class=\"dataframe\">\n",
       "  <thead>\n",
       "    <tr style=\"text-align: right;\">\n",
       "      <th></th>\n",
       "      <th>text_id</th>\n",
       "      <th>full_text</th>\n",
       "      <th>cohesion</th>\n",
       "      <th>syntax</th>\n",
       "      <th>vocabulary</th>\n",
       "      <th>phraseology</th>\n",
       "      <th>grammar</th>\n",
       "      <th>conventions</th>\n",
       "    </tr>\n",
       "  </thead>\n",
       "  <tbody>\n",
       "    <tr>\n",
       "      <th>0</th>\n",
       "      <td>0016926B079C</td>\n",
       "      <td>I think that students would benefit from learn...</td>\n",
       "      <td>3.5</td>\n",
       "      <td>3.5</td>\n",
       "      <td>3.0</td>\n",
       "      <td>3.0</td>\n",
       "      <td>4.0</td>\n",
       "      <td>3.0</td>\n",
       "    </tr>\n",
       "    <tr>\n",
       "      <th>1</th>\n",
       "      <td>0022683E9EA5</td>\n",
       "      <td>When a problem is a change you have to let it ...</td>\n",
       "      <td>2.5</td>\n",
       "      <td>2.5</td>\n",
       "      <td>3.0</td>\n",
       "      <td>2.0</td>\n",
       "      <td>2.0</td>\n",
       "      <td>2.5</td>\n",
       "    </tr>\n",
       "    <tr>\n",
       "      <th>2</th>\n",
       "      <td>00299B378633</td>\n",
       "      <td>Dear, Principal\\n\\nIf u change the school poli...</td>\n",
       "      <td>3.0</td>\n",
       "      <td>3.5</td>\n",
       "      <td>3.0</td>\n",
       "      <td>3.0</td>\n",
       "      <td>3.0</td>\n",
       "      <td>2.5</td>\n",
       "    </tr>\n",
       "    <tr>\n",
       "      <th>3</th>\n",
       "      <td>003885A45F42</td>\n",
       "      <td>The best time in life is when you become yours...</td>\n",
       "      <td>4.5</td>\n",
       "      <td>4.5</td>\n",
       "      <td>4.5</td>\n",
       "      <td>4.5</td>\n",
       "      <td>4.0</td>\n",
       "      <td>5.0</td>\n",
       "    </tr>\n",
       "    <tr>\n",
       "      <th>4</th>\n",
       "      <td>0049B1DF5CCC</td>\n",
       "      <td>Small act of kindness can impact in other peop...</td>\n",
       "      <td>2.5</td>\n",
       "      <td>3.0</td>\n",
       "      <td>3.0</td>\n",
       "      <td>3.0</td>\n",
       "      <td>2.5</td>\n",
       "      <td>2.5</td>\n",
       "    </tr>\n",
       "  </tbody>\n",
       "</table>\n",
       "</div>"
      ],
      "text/plain": [
       "        text_id                                          full_text  cohesion  \\\n",
       "0  0016926B079C  I think that students would benefit from learn...       3.5   \n",
       "1  0022683E9EA5  When a problem is a change you have to let it ...       2.5   \n",
       "2  00299B378633  Dear, Principal\\n\\nIf u change the school poli...       3.0   \n",
       "3  003885A45F42  The best time in life is when you become yours...       4.5   \n",
       "4  0049B1DF5CCC  Small act of kindness can impact in other peop...       2.5   \n",
       "\n",
       "   syntax  vocabulary  phraseology  grammar  conventions  \n",
       "0     3.5         3.0          3.0      4.0          3.0  \n",
       "1     2.5         3.0          2.0      2.0          2.5  \n",
       "2     3.5         3.0          3.0      3.0          2.5  \n",
       "3     4.5         4.5          4.5      4.0          5.0  \n",
       "4     3.0         3.0          3.0      2.5          2.5  "
      ]
     },
     "execution_count": 167,
     "metadata": {},
     "output_type": "execute_result"
    }
   ],
   "source": [
    "train_copy.head()"
   ]
  },
  {
   "cell_type": "markdown",
   "metadata": {},
   "source": [
    "The third entry shows \\n has been used for newline. Lets fix this using regex so it does not interfere with our analysis."
   ]
  },
  {
   "cell_type": "code",
   "execution_count": 168,
   "metadata": {},
   "outputs": [],
   "source": [
    "train_copy['full_text'] = train_copy['full_text'].replace(r'\\n',' ', regex=True).replace(r'\\r',' ', regex=True)"
   ]
  },
  {
   "cell_type": "code",
   "execution_count": 169,
   "metadata": {},
   "outputs": [
    {
     "data": {
      "text/html": [
       "<div>\n",
       "<style scoped>\n",
       "    .dataframe tbody tr th:only-of-type {\n",
       "        vertical-align: middle;\n",
       "    }\n",
       "\n",
       "    .dataframe tbody tr th {\n",
       "        vertical-align: top;\n",
       "    }\n",
       "\n",
       "    .dataframe thead th {\n",
       "        text-align: right;\n",
       "    }\n",
       "</style>\n",
       "<table border=\"1\" class=\"dataframe\">\n",
       "  <thead>\n",
       "    <tr style=\"text-align: right;\">\n",
       "      <th></th>\n",
       "      <th>cohesion</th>\n",
       "      <th>syntax</th>\n",
       "      <th>vocabulary</th>\n",
       "      <th>phraseology</th>\n",
       "      <th>grammar</th>\n",
       "      <th>conventions</th>\n",
       "    </tr>\n",
       "  </thead>\n",
       "  <tbody>\n",
       "    <tr>\n",
       "      <th>count</th>\n",
       "      <td>3911.000000</td>\n",
       "      <td>3911.000000</td>\n",
       "      <td>3911.000000</td>\n",
       "      <td>3911.000000</td>\n",
       "      <td>3911.000000</td>\n",
       "      <td>3911.000000</td>\n",
       "    </tr>\n",
       "    <tr>\n",
       "      <th>mean</th>\n",
       "      <td>3.127077</td>\n",
       "      <td>3.028254</td>\n",
       "      <td>3.235745</td>\n",
       "      <td>3.116850</td>\n",
       "      <td>3.032856</td>\n",
       "      <td>3.081053</td>\n",
       "    </tr>\n",
       "    <tr>\n",
       "      <th>std</th>\n",
       "      <td>0.662542</td>\n",
       "      <td>0.644399</td>\n",
       "      <td>0.583148</td>\n",
       "      <td>0.655997</td>\n",
       "      <td>0.699841</td>\n",
       "      <td>0.671450</td>\n",
       "    </tr>\n",
       "    <tr>\n",
       "      <th>min</th>\n",
       "      <td>1.000000</td>\n",
       "      <td>1.000000</td>\n",
       "      <td>1.000000</td>\n",
       "      <td>1.000000</td>\n",
       "      <td>1.000000</td>\n",
       "      <td>1.000000</td>\n",
       "    </tr>\n",
       "    <tr>\n",
       "      <th>25%</th>\n",
       "      <td>2.500000</td>\n",
       "      <td>2.500000</td>\n",
       "      <td>3.000000</td>\n",
       "      <td>2.500000</td>\n",
       "      <td>2.500000</td>\n",
       "      <td>2.500000</td>\n",
       "    </tr>\n",
       "    <tr>\n",
       "      <th>50%</th>\n",
       "      <td>3.000000</td>\n",
       "      <td>3.000000</td>\n",
       "      <td>3.000000</td>\n",
       "      <td>3.000000</td>\n",
       "      <td>3.000000</td>\n",
       "      <td>3.000000</td>\n",
       "    </tr>\n",
       "    <tr>\n",
       "      <th>75%</th>\n",
       "      <td>3.500000</td>\n",
       "      <td>3.500000</td>\n",
       "      <td>3.500000</td>\n",
       "      <td>3.500000</td>\n",
       "      <td>3.500000</td>\n",
       "      <td>3.500000</td>\n",
       "    </tr>\n",
       "    <tr>\n",
       "      <th>max</th>\n",
       "      <td>5.000000</td>\n",
       "      <td>5.000000</td>\n",
       "      <td>5.000000</td>\n",
       "      <td>5.000000</td>\n",
       "      <td>5.000000</td>\n",
       "      <td>5.000000</td>\n",
       "    </tr>\n",
       "  </tbody>\n",
       "</table>\n",
       "</div>"
      ],
      "text/plain": [
       "          cohesion       syntax   vocabulary  phraseology      grammar  \\\n",
       "count  3911.000000  3911.000000  3911.000000  3911.000000  3911.000000   \n",
       "mean      3.127077     3.028254     3.235745     3.116850     3.032856   \n",
       "std       0.662542     0.644399     0.583148     0.655997     0.699841   \n",
       "min       1.000000     1.000000     1.000000     1.000000     1.000000   \n",
       "25%       2.500000     2.500000     3.000000     2.500000     2.500000   \n",
       "50%       3.000000     3.000000     3.000000     3.000000     3.000000   \n",
       "75%       3.500000     3.500000     3.500000     3.500000     3.500000   \n",
       "max       5.000000     5.000000     5.000000     5.000000     5.000000   \n",
       "\n",
       "       conventions  \n",
       "count  3911.000000  \n",
       "mean      3.081053  \n",
       "std       0.671450  \n",
       "min       1.000000  \n",
       "25%       2.500000  \n",
       "50%       3.000000  \n",
       "75%       3.500000  \n",
       "max       5.000000  "
      ]
     },
     "execution_count": 169,
     "metadata": {},
     "output_type": "execute_result"
    }
   ],
   "source": [
    "train_copy.describe()"
   ]
  },
  {
   "cell_type": "code",
   "execution_count": 170,
   "metadata": {},
   "outputs": [
    {
     "name": "stdout",
     "output_type": "stream",
     "text": [
      "<class 'pandas.core.frame.DataFrame'>\n",
      "RangeIndex: 3911 entries, 0 to 3910\n",
      "Data columns (total 8 columns):\n",
      " #   Column       Non-Null Count  Dtype  \n",
      "---  ------       --------------  -----  \n",
      " 0   text_id      3911 non-null   object \n",
      " 1   full_text    3911 non-null   object \n",
      " 2   cohesion     3911 non-null   float64\n",
      " 3   syntax       3911 non-null   float64\n",
      " 4   vocabulary   3911 non-null   float64\n",
      " 5   phraseology  3911 non-null   float64\n",
      " 6   grammar      3911 non-null   float64\n",
      " 7   conventions  3911 non-null   float64\n",
      "dtypes: float64(6), object(2)\n",
      "memory usage: 244.6+ KB\n"
     ]
    }
   ],
   "source": [
    "train_copy.info()"
   ]
  },
  {
   "cell_type": "code",
   "execution_count": 171,
   "metadata": {},
   "outputs": [
    {
     "data": {
      "text/plain": [
       "array([[<AxesSubplot:title={'center':'cohesion'}>,\n",
       "        <AxesSubplot:title={'center':'syntax'}>],\n",
       "       [<AxesSubplot:title={'center':'vocabulary'}>,\n",
       "        <AxesSubplot:title={'center':'phraseology'}>],\n",
       "       [<AxesSubplot:title={'center':'grammar'}>,\n",
       "        <AxesSubplot:title={'center':'conventions'}>]], dtype=object)"
      ]
     },
     "execution_count": 171,
     "metadata": {},
     "output_type": "execute_result"
    },
    {
     "data": {
      "image/png": "[encoded data removed]",
      "text/plain": [
       "<Figure size 1080x720 with 6 Axes>"
      ]
     },
     "metadata": {
      "needs_background": "light"
     },
     "output_type": "display_data"
    }
   ],
   "source": [
    "train_copy.hist(bins=50, figsize=(15,10))"
   ]
  },
  {
   "cell_type": "markdown",
   "metadata": {},
   "source": [
    "nevne om at er 6 target values"
   ]
  },
  {
   "cell_type": "code",
   "execution_count": 185,
   "metadata": {},
   "outputs": [
    {
     "data": {
      "image/png": "[encoded data removed]",
      "text/plain": [
       "<Figure size 576x576 with 2 Axes>"
      ]
     },
     "metadata": {},
     "output_type": "display_data"
    }
   ],
   "source": [
    "sns.heatmap(train_copy.corr(), annot =True )\n",
    "sns.set(rc = {'figure.figsize':(8,8)})\n",
    "plt.show()"
   ]
  },
  {
   "cell_type": "markdown",
   "metadata": {},
   "source": [
    "#  **4. Prepare the data to better expose the underlying data patterns to machine learning algorithms**"
   ]
  },
  {
   "cell_type": "markdown",
   "metadata": {},
   "source": [
    "## **The approach**"
   ]
  },
  {
   "cell_type": "markdown",
   "metadata": {},
   "source": [
    "Machine learning models can't \"read\" the text in the same way us humans can.\n",
    "I'll have to create new features that represent the text in a format the algorithm can understand.\n",
    "\n",
    "Presumably the best way to start is to add a \"length\" feature. I'll be using this so the algorithm does not dsicriminate based of length of an essay.\n",
    "A human can easily say 1 grammatical mistake in 10 words is more severe than 2 mistakes in 100 words, the algorithm does not *necessarily*.\n",
    "\n",
    "We don't actually know if the essays vary much in size, but it's only one way to find out."
   ]
  },
  {
   "cell_type": "code",
   "execution_count": 173,
   "metadata": {},
   "outputs": [
    {
     "data": {
      "text/html": [
       "<div>\n",
       "<style scoped>\n",
       "    .dataframe tbody tr th:only-of-type {\n",
       "        vertical-align: middle;\n",
       "    }\n",
       "\n",
       "    .dataframe tbody tr th {\n",
       "        vertical-align: top;\n",
       "    }\n",
       "\n",
       "    .dataframe thead th {\n",
       "        text-align: right;\n",
       "    }\n",
       "</style>\n",
       "<table border=\"1\" class=\"dataframe\">\n",
       "  <thead>\n",
       "    <tr style=\"text-align: right;\">\n",
       "      <th></th>\n",
       "      <th>text_id</th>\n",
       "      <th>full_text</th>\n",
       "      <th>cohesion</th>\n",
       "      <th>syntax</th>\n",
       "      <th>vocabulary</th>\n",
       "      <th>phraseology</th>\n",
       "      <th>grammar</th>\n",
       "      <th>conventions</th>\n",
       "      <th>length</th>\n",
       "    </tr>\n",
       "  </thead>\n",
       "  <tbody>\n",
       "    <tr>\n",
       "      <th>0</th>\n",
       "      <td>0016926B079C</td>\n",
       "      <td>I think that students would benefit from learn...</td>\n",
       "      <td>3.5</td>\n",
       "      <td>3.5</td>\n",
       "      <td>3.0</td>\n",
       "      <td>3.0</td>\n",
       "      <td>4.0</td>\n",
       "      <td>3.0</td>\n",
       "      <td>1387</td>\n",
       "    </tr>\n",
       "    <tr>\n",
       "      <th>1</th>\n",
       "      <td>0022683E9EA5</td>\n",
       "      <td>When a problem is a change you have to let it ...</td>\n",
       "      <td>2.5</td>\n",
       "      <td>2.5</td>\n",
       "      <td>3.0</td>\n",
       "      <td>2.0</td>\n",
       "      <td>2.0</td>\n",
       "      <td>2.5</td>\n",
       "      <td>2635</td>\n",
       "    </tr>\n",
       "    <tr>\n",
       "      <th>2</th>\n",
       "      <td>00299B378633</td>\n",
       "      <td>Dear, Principal  If u change the school policy...</td>\n",
       "      <td>3.0</td>\n",
       "      <td>3.5</td>\n",
       "      <td>3.0</td>\n",
       "      <td>3.0</td>\n",
       "      <td>3.0</td>\n",
       "      <td>2.5</td>\n",
       "      <td>1663</td>\n",
       "    </tr>\n",
       "    <tr>\n",
       "      <th>3</th>\n",
       "      <td>003885A45F42</td>\n",
       "      <td>The best time in life is when you become yours...</td>\n",
       "      <td>4.5</td>\n",
       "      <td>4.5</td>\n",
       "      <td>4.5</td>\n",
       "      <td>4.5</td>\n",
       "      <td>4.0</td>\n",
       "      <td>5.0</td>\n",
       "      <td>3973</td>\n",
       "    </tr>\n",
       "    <tr>\n",
       "      <th>4</th>\n",
       "      <td>0049B1DF5CCC</td>\n",
       "      <td>Small act of kindness can impact in other peop...</td>\n",
       "      <td>2.5</td>\n",
       "      <td>3.0</td>\n",
       "      <td>3.0</td>\n",
       "      <td>3.0</td>\n",
       "      <td>2.5</td>\n",
       "      <td>2.5</td>\n",
       "      <td>1326</td>\n",
       "    </tr>\n",
       "  </tbody>\n",
       "</table>\n",
       "</div>"
      ],
      "text/plain": [
       "        text_id                                          full_text  cohesion  \\\n",
       "0  0016926B079C  I think that students would benefit from learn...       3.5   \n",
       "1  0022683E9EA5  When a problem is a change you have to let it ...       2.5   \n",
       "2  00299B378633  Dear, Principal  If u change the school policy...       3.0   \n",
       "3  003885A45F42  The best time in life is when you become yours...       4.5   \n",
       "4  0049B1DF5CCC  Small act of kindness can impact in other peop...       2.5   \n",
       "\n",
       "   syntax  vocabulary  phraseology  grammar  conventions  length  \n",
       "0     3.5         3.0          3.0      4.0          3.0    1387  \n",
       "1     2.5         3.0          2.0      2.0          2.5    2635  \n",
       "2     3.5         3.0          3.0      3.0          2.5    1663  \n",
       "3     4.5         4.5          4.5      4.0          5.0    3973  \n",
       "4     3.0         3.0          3.0      2.5          2.5    1326  "
      ]
     },
     "execution_count": 173,
     "metadata": {},
     "output_type": "execute_result"
    }
   ],
   "source": [
    "train_copy['length'] = train_copy['full_text'].str.len()\n",
    "train_copy.head()"
   ]
  },
  {
   "cell_type": "code",
   "execution_count": 174,
   "metadata": {},
   "outputs": [
    {
     "name": "stdout",
     "output_type": "stream",
     "text": [
      "82\n",
      "6044\n"
     ]
    }
   ],
   "source": [
    "print(train_copy['length'].min())\n",
    "print(train_copy['length'].max())"
   ]
  },
  {
   "cell_type": "markdown",
   "metadata": {},
   "source": [
    "Turns out the longest essay is nearly 100 times longer than the shortest. This information is clearly useful, atleast for further feature engineering.\n",
    "\n",
    "The features added from now on will mostly be trial and error. I am obviously no expert on linguistics, and the features added will be based on gut feelings. Trying different parameters, and seing what sticks. Mostly based of feature importance.\n",
    "\n",
    "These are some points/thoughts I will try to base my features off:\n",
    "- Long sentences are often hard to understand/follow.\n",
    "- Punctuation:\n",
    "    - Frequency, relates to point above. The longer the sentence, the harder it becomes to follow.\n",
    "- Grammatical/spelling errors\n",
    "    - A well written texts seems less likely to include.\n",
    "    - Difference in severity?\n",
    "- Vocabulary:\n",
    "    - What words - what frequency.\n",
    "    - Length of words\n",
    "    \n",
    "- Length of text could be an important feature for accuracy in the training set, but should not be used. We want the algorithm to rate the quality of the text independently of the length for new data\n",
    "\n",
    "I will go through this list iteratively.\n",
    "All features will be added in relation to length of essay with the help of creating a frequency function.\n",
    "Takes literal to count divides by length and returns."
   ]
  },
  {
   "cell_type": "code",
   "execution_count": 175,
   "metadata": {},
   "outputs": [],
   "source": [
    "from collections import Counter\n",
    "\n",
    "def frequencyChars(text, chars, combine):\n",
    "\n",
    "    count = Counter(text)\n",
    "    occurences = list(range(0))\n",
    "    char_occ = 0\n",
    "    length = len(text)\n",
    "\n",
    "    for c in chars:\n",
    "\n",
    "        char_occ = count.get(c)\n",
    "        if char_occ is None:\n",
    "\n",
    "            char_occ = 0\n",
    "        \n",
    "        occurences.append(char_occ/length)\n",
    "\n",
    "    if combine:\n",
    "        return sum(occurences)\n",
    "\n",
    "    return occurences\n",
    "\n",
    "def frequencyWord(text, word):\n",
    "    occurences = text.count(word)\n",
    "\n",
    "    return occurences/len(text)"
   ]
  },
  {
   "cell_type": "markdown",
   "metadata": {},
   "source": [
    "## **Long Sentences/Punctuation**"
   ]
  },
  {
   "cell_type": "markdown",
   "metadata": {},
   "source": [
    "Adding 2 new features. Length/sentence, frequency of commas and periods."
   ]
  },
  {
   "cell_type": "code",
   "execution_count": 176,
   "metadata": {},
   "outputs": [],
   "source": [
    "train_copy['period_frequency/sentence_length'] = train_copy.apply(lambda x: frequencyChars(x['full_text'], '.', True),  axis = 1)\n",
    "\n",
    "train_copy['comma_frequency'] = train_copy.apply(lambda x: frequencyChars(x['full_text'], ',', True),  axis = 1)\n",
    "\n",
    "##train_copy['u_frequency'] = train_copy.apply(lambda x: frequencyWord(x['full_text'], 'u'),  axis = 1)\n",
    "\n",
    "##train_copy['and_frequency'] = train_copy.apply(lambda x: frequencyWord(x['full_text'], 'and'), axis=1)\n",
    "\n",
    "##train_copy['excPoin/queMark_frequency'] = train_copy.apply(lambda x: frequencyChars(x['full_text'], ['!', '?'], True),  axis = 1)"
   ]
  },
  {
   "cell_type": "code",
   "execution_count": 177,
   "metadata": {},
   "outputs": [
    {
     "data": {
      "text/html": [
       "<div>\n",
       "<style scoped>\n",
       "    .dataframe tbody tr th:only-of-type {\n",
       "        vertical-align: middle;\n",
       "    }\n",
       "\n",
       "    .dataframe tbody tr th {\n",
       "        vertical-align: top;\n",
       "    }\n",
       "\n",
       "    .dataframe thead th {\n",
       "        text-align: right;\n",
       "    }\n",
       "</style>\n",
       "<table border=\"1\" class=\"dataframe\">\n",
       "  <thead>\n",
       "    <tr style=\"text-align: right;\">\n",
       "      <th></th>\n",
       "      <th>text_id</th>\n",
       "      <th>full_text</th>\n",
       "      <th>cohesion</th>\n",
       "      <th>syntax</th>\n",
       "      <th>vocabulary</th>\n",
       "      <th>phraseology</th>\n",
       "      <th>grammar</th>\n",
       "      <th>conventions</th>\n",
       "      <th>length</th>\n",
       "      <th>period_frequency/sentence_length</th>\n",
       "      <th>comma_frequency</th>\n",
       "    </tr>\n",
       "  </thead>\n",
       "  <tbody>\n",
       "    <tr>\n",
       "      <th>0</th>\n",
       "      <td>0016926B079C</td>\n",
       "      <td>I think that students would benefit from learn...</td>\n",
       "      <td>3.5</td>\n",
       "      <td>3.5</td>\n",
       "      <td>3.0</td>\n",
       "      <td>3.0</td>\n",
       "      <td>4.0</td>\n",
       "      <td>3.0</td>\n",
       "      <td>1387</td>\n",
       "      <td>0.012978</td>\n",
       "      <td>0.000721</td>\n",
       "    </tr>\n",
       "    <tr>\n",
       "      <th>1</th>\n",
       "      <td>0022683E9EA5</td>\n",
       "      <td>When a problem is a change you have to let it ...</td>\n",
       "      <td>2.5</td>\n",
       "      <td>2.5</td>\n",
       "      <td>3.0</td>\n",
       "      <td>2.0</td>\n",
       "      <td>2.0</td>\n",
       "      <td>2.5</td>\n",
       "      <td>2635</td>\n",
       "      <td>0.005313</td>\n",
       "      <td>0.001518</td>\n",
       "    </tr>\n",
       "    <tr>\n",
       "      <th>2</th>\n",
       "      <td>00299B378633</td>\n",
       "      <td>Dear, Principal  If u change the school policy...</td>\n",
       "      <td>3.0</td>\n",
       "      <td>3.5</td>\n",
       "      <td>3.0</td>\n",
       "      <td>3.0</td>\n",
       "      <td>3.0</td>\n",
       "      <td>2.5</td>\n",
       "      <td>1663</td>\n",
       "      <td>0.011425</td>\n",
       "      <td>0.004209</td>\n",
       "    </tr>\n",
       "    <tr>\n",
       "      <th>3</th>\n",
       "      <td>003885A45F42</td>\n",
       "      <td>The best time in life is when you become yours...</td>\n",
       "      <td>4.5</td>\n",
       "      <td>4.5</td>\n",
       "      <td>4.5</td>\n",
       "      <td>4.5</td>\n",
       "      <td>4.0</td>\n",
       "      <td>5.0</td>\n",
       "      <td>3973</td>\n",
       "      <td>0.009061</td>\n",
       "      <td>0.009816</td>\n",
       "    </tr>\n",
       "    <tr>\n",
       "      <th>4</th>\n",
       "      <td>0049B1DF5CCC</td>\n",
       "      <td>Small act of kindness can impact in other peop...</td>\n",
       "      <td>2.5</td>\n",
       "      <td>3.0</td>\n",
       "      <td>3.0</td>\n",
       "      <td>3.0</td>\n",
       "      <td>2.5</td>\n",
       "      <td>2.5</td>\n",
       "      <td>1326</td>\n",
       "      <td>0.002262</td>\n",
       "      <td>0.000000</td>\n",
       "    </tr>\n",
       "  </tbody>\n",
       "</table>\n",
       "</div>"
      ],
      "text/plain": [
       "        text_id                                          full_text  cohesion  \\\n",
       "0  0016926B079C  I think that students would benefit from learn...       3.5   \n",
       "1  0022683E9EA5  When a problem is a change you have to let it ...       2.5   \n",
       "2  00299B378633  Dear, Principal  If u change the school policy...       3.0   \n",
       "3  003885A45F42  The best time in life is when you become yours...       4.5   \n",
       "4  0049B1DF5CCC  Small act of kindness can impact in other peop...       2.5   \n",
       "\n",
       "   syntax  vocabulary  phraseology  grammar  conventions  length  \\\n",
       "0     3.5         3.0          3.0      4.0          3.0    1387   \n",
       "1     2.5         3.0          2.0      2.0          2.5    2635   \n",
       "2     3.5         3.0          3.0      3.0          2.5    1663   \n",
       "3     4.5         4.5          4.5      4.0          5.0    3973   \n",
       "4     3.0         3.0          3.0      2.5          2.5    1326   \n",
       "\n",
       "   period_frequency/sentence_length  comma_frequency  \n",
       "0                          0.012978         0.000721  \n",
       "1                          0.005313         0.001518  \n",
       "2                          0.011425         0.004209  \n",
       "3                          0.009061         0.009816  \n",
       "4                          0.002262         0.000000  "
      ]
     },
     "execution_count": 177,
     "metadata": {},
     "output_type": "execute_result"
    }
   ],
   "source": [
    "train_copy.head()"
   ]
  },
  {
   "cell_type": "markdown",
   "metadata": {},
   "source": [
    "## **Grammatical/Spelling errors**"
   ]
  },
  {
   "cell_type": "markdown",
   "metadata": {},
   "source": [
    "Let's go through and check for spelling errors. We'll also store these in our dataframe for easier access later on."
   ]
  },
  {
   "cell_type": "code",
   "execution_count": 178,
   "metadata": {},
   "outputs": [],
   "source": [
    "##pip install pyspellchecker\n",
    "from spellchecker import SpellChecker\n",
    "import string"
   ]
  },
  {
   "cell_type": "code",
   "execution_count": 179,
   "metadata": {},
   "outputs": [],
   "source": [
    "\n",
    "def mispelledWords(text):\n",
    "\n",
    "    spell = SpellChecker()\n",
    "\n",
    "    words = text.lower().translate(str.maketrans(' ', ' ', string.punctuation)).split()\n",
    "\n",
    "    mispelled = spell.unknown(words)\n",
    "\n",
    "    return mispelled \n",
    "\n"
   ]
  },
  {
   "cell_type": "markdown",
   "metadata": {},
   "source": [
    "The 2 first lines below are used for finding mispelled words and frequency of mispelled words in each essay.\n",
    "These 2 take 5 minutes or so. I therefore stored the results in an csv file and add them back into the dataframe. Some formatting needs to be done, as the set is stored to the csv as a string and the csv adds a column.\n",
    "This saves a lot of time when running for testing purposes."
   ]
  },
  {
   "cell_type": "code",
   "execution_count": 180,
   "metadata": {},
   "outputs": [],
   "source": [
    "##train_copy['mispelled_words'] = train_copy.apply(lambda x: mispelledWords(x['full_text']),  axis = 1)\n",
    "##train_copy['mispelled_words_frequency'] = train_copy.apply(lambda x: len(x['mispelled_words'])/x['length'],  axis = 1)\n",
    "\n",
    "##mispelled_words = train_copy['mispelled_words']\n",
    "##mispelled_words_frequency = train_copy['mispelled_words_frequency']\n",
    "\n",
    "##mispelled_words_and_frequency = pd.concat((mispelled_words, mispelled_words_frequency), axis = 1)\n",
    "##mispelled_words_and_frequency.to_csv(r'C:\\GitRepos\\ML\\Assignment3_ML\\Data\\mispelled_words.csv')\n",
    "\n",
    "mispelled_words_and_frequency = pd.read_csv(r'C:\\GitRepos\\ML\\Assignment3_ML\\Data\\mispelled_words.csv')\n",
    "mispelled_words_and_frequency = mispelled_words_and_frequency.iloc[: , 1:]\n",
    "\n",
    "mispelled_words_and_frequency['mispelled_words'] = mispelled_words_and_frequency['mispelled_words'].replace(['set()'],'')\n",
    "\n",
    "mispelled_words_and_frequency['mispelled_words'] = mispelled_words_and_frequency.mispelled_words.apply(lambda x: x[1:-1].translate(str.maketrans(' ', ' ', string.punctuation)).split())\n",
    "\n",
    "train_copy = train_copy.join(mispelled_words_and_frequency)\n",
    "\n"
   ]
  },
  {
   "cell_type": "code",
   "execution_count": 181,
   "metadata": {},
   "outputs": [
    {
     "data": {
      "text/html": [
       "<div>\n",
       "<style scoped>\n",
       "    .dataframe tbody tr th:only-of-type {\n",
       "        vertical-align: middle;\n",
       "    }\n",
       "\n",
       "    .dataframe tbody tr th {\n",
       "        vertical-align: top;\n",
       "    }\n",
       "\n",
       "    .dataframe thead th {\n",
       "        text-align: right;\n",
       "    }\n",
       "</style>\n",
       "<table border=\"1\" class=\"dataframe\">\n",
       "  <thead>\n",
       "    <tr style=\"text-align: right;\">\n",
       "      <th></th>\n",
       "      <th>text_id</th>\n",
       "      <th>full_text</th>\n",
       "      <th>cohesion</th>\n",
       "      <th>syntax</th>\n",
       "      <th>vocabulary</th>\n",
       "      <th>phraseology</th>\n",
       "      <th>grammar</th>\n",
       "      <th>conventions</th>\n",
       "      <th>length</th>\n",
       "      <th>period_frequency/sentence_length</th>\n",
       "      <th>comma_frequency</th>\n",
       "      <th>mispelled_words</th>\n",
       "      <th>mispelled_words_frequency</th>\n",
       "    </tr>\n",
       "  </thead>\n",
       "  <tbody>\n",
       "    <tr>\n",
       "      <th>0</th>\n",
       "      <td>0016926B079C</td>\n",
       "      <td>I think that students would benefit from learn...</td>\n",
       "      <td>3.5</td>\n",
       "      <td>3.5</td>\n",
       "      <td>3.0</td>\n",
       "      <td>3.0</td>\n",
       "      <td>4.0</td>\n",
       "      <td>3.0</td>\n",
       "      <td>1387</td>\n",
       "      <td>0.012978</td>\n",
       "      <td>0.000721</td>\n",
       "      <td>[homebecause]</td>\n",
       "      <td>0.000721</td>\n",
       "    </tr>\n",
       "    <tr>\n",
       "      <th>1</th>\n",
       "      <td>0022683E9EA5</td>\n",
       "      <td>When a problem is a change you have to let it ...</td>\n",
       "      <td>2.5</td>\n",
       "      <td>2.5</td>\n",
       "      <td>3.0</td>\n",
       "      <td>2.0</td>\n",
       "      <td>2.0</td>\n",
       "      <td>2.5</td>\n",
       "      <td>2635</td>\n",
       "      <td>0.005313</td>\n",
       "      <td>0.001518</td>\n",
       "      <td>[]</td>\n",
       "      <td>0.000000</td>\n",
       "    </tr>\n",
       "    <tr>\n",
       "      <th>2</th>\n",
       "      <td>00299B378633</td>\n",
       "      <td>Dear, Principal  If u change the school policy...</td>\n",
       "      <td>3.0</td>\n",
       "      <td>3.5</td>\n",
       "      <td>3.0</td>\n",
       "      <td>3.0</td>\n",
       "      <td>3.0</td>\n",
       "      <td>2.5</td>\n",
       "      <td>1663</td>\n",
       "      <td>0.011425</td>\n",
       "      <td>0.004209</td>\n",
       "      <td>[b, c, isnt, d, shouldnt]</td>\n",
       "      <td>0.003007</td>\n",
       "    </tr>\n",
       "    <tr>\n",
       "      <th>3</th>\n",
       "      <td>003885A45F42</td>\n",
       "      <td>The best time in life is when you become yours...</td>\n",
       "      <td>4.5</td>\n",
       "      <td>4.5</td>\n",
       "      <td>4.5</td>\n",
       "      <td>4.5</td>\n",
       "      <td>4.0</td>\n",
       "      <td>5.0</td>\n",
       "      <td>3973</td>\n",
       "      <td>0.009061</td>\n",
       "      <td>0.009816</td>\n",
       "      <td>[doesnt, theyre, youre]</td>\n",
       "      <td>0.000755</td>\n",
       "    </tr>\n",
       "    <tr>\n",
       "      <th>4</th>\n",
       "      <td>0049B1DF5CCC</td>\n",
       "      <td>Small act of kindness can impact in other peop...</td>\n",
       "      <td>2.5</td>\n",
       "      <td>3.0</td>\n",
       "      <td>3.0</td>\n",
       "      <td>3.0</td>\n",
       "      <td>2.5</td>\n",
       "      <td>2.5</td>\n",
       "      <td>1326</td>\n",
       "      <td>0.002262</td>\n",
       "      <td>0.000000</td>\n",
       "      <td>[homeles, kindess, thoose, trowing, greate, wo...</td>\n",
       "      <td>0.005279</td>\n",
       "    </tr>\n",
       "  </tbody>\n",
       "</table>\n",
       "</div>"
      ],
      "text/plain": [
       "        text_id                                          full_text  cohesion  \\\n",
       "0  0016926B079C  I think that students would benefit from learn...       3.5   \n",
       "1  0022683E9EA5  When a problem is a change you have to let it ...       2.5   \n",
       "2  00299B378633  Dear, Principal  If u change the school policy...       3.0   \n",
       "3  003885A45F42  The best time in life is when you become yours...       4.5   \n",
       "4  0049B1DF5CCC  Small act of kindness can impact in other peop...       2.5   \n",
       "\n",
       "   syntax  vocabulary  phraseology  grammar  conventions  length  \\\n",
       "0     3.5         3.0          3.0      4.0          3.0    1387   \n",
       "1     2.5         3.0          2.0      2.0          2.5    2635   \n",
       "2     3.5         3.0          3.0      3.0          2.5    1663   \n",
       "3     4.5         4.5          4.5      4.0          5.0    3973   \n",
       "4     3.0         3.0          3.0      2.5          2.5    1326   \n",
       "\n",
       "   period_frequency/sentence_length  comma_frequency  \\\n",
       "0                          0.012978         0.000721   \n",
       "1                          0.005313         0.001518   \n",
       "2                          0.011425         0.004209   \n",
       "3                          0.009061         0.009816   \n",
       "4                          0.002262         0.000000   \n",
       "\n",
       "                                     mispelled_words  \\\n",
       "0                                      [homebecause]   \n",
       "1                                                 []   \n",
       "2                          [b, c, isnt, d, shouldnt]   \n",
       "3                            [doesnt, theyre, youre]   \n",
       "4  [homeles, kindess, thoose, trowing, greate, wo...   \n",
       "\n",
       "   mispelled_words_frequency  \n",
       "0                   0.000721  \n",
       "1                   0.000000  \n",
       "2                   0.003007  \n",
       "3                   0.000755  \n",
       "4                   0.005279  "
      ]
     },
     "execution_count": 181,
     "metadata": {},
     "output_type": "execute_result"
    }
   ],
   "source": [
    "train_copy.head()"
   ]
  },
  {
   "cell_type": "markdown",
   "metadata": {},
   "source": [
    "# **5. Explore many different models and short-list the best ones**"
   ]
  },
  {
   "cell_type": "code",
   "execution_count": 182,
   "metadata": {},
   "outputs": [
    {
     "data": {
      "text/plain": [
       "'\\nclass add_features_transformer(BaseEstimator, TransformerMixin):\\n    \\n    def fit(self, X, y=None):\\n        return self\\n    def transform(self, X, y=None):\\n        \\n        findLength(X)\\n\\n        return X\\n\\n    def findLength(df):\\n        df[\\'length\\'] = np.nan\\n        df[\\'length\\'] = df[\\'full_text\\'].str.len()\\n    \\n\\npipe = Pipeline(\\n    steps=[\\n        (\"findLength\", add_features_transformer())\\n    ]\\n)\\n\\npipe.fit_transform(train_copy)\\ntrain_copy.head()\\n'"
      ]
     },
     "execution_count": 182,
     "metadata": {},
     "output_type": "execute_result"
    }
   ],
   "source": [
    "from sklearn.base import BaseEstimator, TransformerMixin\n",
    "from sklearn.pipeline import make_pipeline\n",
    "from sklearn.compose import ColumnTransformer\n",
    "from sklearn.pipeline import Pipeline\n",
    "'''\n",
    "class add_features_transformer(BaseEstimator, TransformerMixin):\n",
    "    \n",
    "    def fit(self, X, y=None):\n",
    "        return self\n",
    "    def transform(self, X, y=None):\n",
    "        \n",
    "        findLength(X)\n",
    "\n",
    "        return X\n",
    "\n",
    "    def findLength(df):\n",
    "        df['length'] = np.nan\n",
    "        df['length'] = df['full_text'].str.len()\n",
    "    \n",
    "\n",
    "pipe = Pipeline(\n",
    "    steps=[\n",
    "        (\"findLength\", add_features_transformer())\n",
    "    ]\n",
    ")\n",
    "\n",
    "pipe.fit_transform(train_copy)\n",
    "train_copy.head()\n",
    "'''"
   ]
  },
  {
   "cell_type": "markdown",
   "metadata": {},
   "source": [
    "# **6. Fine-tune your models and combine them into a great solution**"
   ]
  },
  {
   "cell_type": "markdown",
   "metadata": {},
   "source": [
    "# **7. Present your solution**"
   ]
  },
  {
   "cell_type": "markdown",
   "metadata": {},
   "source": [
    "# **8. Launch, monitor, and maintain your system**"
   ]
  },
  {
   "cell_type": "code",
   "execution_count": 183,
   "metadata": {},
   "outputs": [
    {
     "data": {
      "text/plain": [
       "\"\\ntrain_copy['u_frequency'] = train_copy.apply(lambda x: frequencyWord(x['full_text'], 'u'),  axis = 1)\\n\\ntrain_copy['and_frequency'] = train_copy.apply(lambda x: frequencyWord(x['full_text'], 'and'), axis=1)\\n\\ntrain_copy['excPoin/queMark_frequency'] = train_copy.apply(lambda x: frequencyChars(x['full_text'], ['!', '?'], True),  axis = 1)\\n\""
      ]
     },
     "execution_count": 183,
     "metadata": {},
     "output_type": "execute_result"
    }
   ],
   "source": [
    "'''\n",
    "train_copy['u_frequency'] = train_copy.apply(lambda x: frequencyWord(x['full_text'], 'u'),  axis = 1)\n",
    "\n",
    "train_copy['and_frequency'] = train_copy.apply(lambda x: frequencyWord(x['full_text'], 'and'), axis=1)\n",
    "\n",
    "train_copy['excPoin/queMark_frequency'] = train_copy.apply(lambda x: frequencyChars(x['full_text'], ['!', '?'], True),  axis = 1)\n",
    "'''"
   ]
  },
  {
   "cell_type": "code",
   "execution_count": 184,
   "metadata": {},
   "outputs": [
    {
     "data": {
      "text/plain": [
       "\"\\ncontractions = ['aren’t',\\n'can’t', 'couldn’t', \\n'didn’t',\\n'doesn’t', 'don’t', 'hadn’t', \\n'hasn’t', 'haven’t', 'he’d', 'he’ll', 'he’s', \\n'I’d', 'I’ll', 'I’m', 'I’ve', 'isn’t',\\n'let’s',\\n'she’d', 'she’ll', 'she’s', 'shouldn’t',\\n'that’s','there’s', 'they’d', 'they’ll', 'they’re', 'they’ve ',\\n'we’d', 'we’re ', 'we’ve', 'weren’t', 'what’ll', 'what’s', 'what’ve', 'where’s', 'who’ll', 'won’t', 'wouldn’t', \\n'you’d', 'you’ll', 'you’re', 'you’ve'\\n] \\n\\n\\ncontractions_incorrect = list(map(lambda word : word.replace('’',''), contractions))\\ntrain_copy['incorrect_contractions'] = train_copy.apply(lambda x: list(set(contractions_incorrect).intersection(x['mispelled_words'])) , axis = 1) \\ntrain_copy['mispelled_contractions_frequency'] = train_copy.apply(lambda x: len(x['incorrect_contractions'])/x['length'],  axis = 1)\\ntrain_copy.head()\\n\""
      ]
     },
     "execution_count": 184,
     "metadata": {},
     "output_type": "execute_result"
    }
   ],
   "source": [
    "'''\n",
    "contractions = ['aren’t',\n",
    "'can’t', 'couldn’t', \n",
    "'didn’t',\n",
    "'doesn’t', 'don’t', 'hadn’t', \n",
    "'hasn’t', 'haven’t', 'he’d', 'he’ll', 'he’s', \n",
    "'I’d', 'I’ll', 'I’m', 'I’ve', 'isn’t',\n",
    "'let’s',\n",
    "'she’d', 'she’ll', 'she’s', 'shouldn’t',\n",
    "'that’s','there’s', 'they’d', 'they’ll', 'they’re', 'they’ve ',\n",
    "'we’d', 'we’re ', 'we’ve', 'weren’t', 'what’ll', 'what’s', 'what’ve', 'where’s', 'who’ll', 'won’t', 'wouldn’t', \n",
    "'you’d', 'you’ll', 'you’re', 'you’ve'\n",
    "] \n",
    "\n",
    "\n",
    "contractions_incorrect = list(map(lambda word : word.replace('’',''), contractions))\n",
    "train_copy['incorrect_contractions'] = train_copy.apply(lambda x: list(set(contractions_incorrect).intersection(x['mispelled_words'])) , axis = 1) \n",
    "train_copy['mispelled_contractions_frequency'] = train_copy.apply(lambda x: len(x['incorrect_contractions'])/x['length'],  axis = 1)\n",
    "train_copy.head()\n",
    "'''"
   ]
  }
 ],
 "metadata": {
  "kernelspec": {
   "display_name": "Python 3.9.12 ('base')",
   "language": "python",
   "name": "python3"
  },
  "language_info": {
   "codemirror_mode": {
    "name": "ipython",
    "version": 3
   },
   "file_extension": ".py",
   "mimetype": "text/x-python",
   "name": "python",
   "nbconvert_exporter": "python",
   "pygments_lexer": "ipython3",
   "version": "3.9.12"
  },
  "orig_nbformat": 4,
  "vscode": {
   "interpreter": {
    "hash": "57c820bef9f62ca405f754454332d1673f8ee740586b1a8f2c47c1da6dc1c929"
   }
  }
 },
 "nbformat": 4,
 "nbformat_minor": 2
}
